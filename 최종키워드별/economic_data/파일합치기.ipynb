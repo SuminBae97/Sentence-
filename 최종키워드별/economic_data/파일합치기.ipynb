{
 "cells": [
  {
   "cell_type": "code",
   "execution_count": 1,
   "id": "719f0efc",
   "metadata": {},
   "outputs": [
    {
     "name": "stdout",
     "output_type": "stream",
     "text": [
      "file_list_py: ['재무_크롤링센텐스.csv', '경제_크롤링센텐스.csv', '경영_크롤링센텐스.csv', '이율_크롤링센텐스.csv', '소득_크롤링센텐스.csv', '부동산_크롤링센텐스.csv', '환율_크롤링센텐스.csv', '재정_크롤링센텐스.csv', 'gdp_크롤링센텐스.csv', '재화_크롤링센텐스.csv', '투자_크롤링센텐스.csv', '소비자물가지수_크롤링센텐스.csv', '디플레이션_크롤링센텐스.csv', '금리_크롤링센텐스.csv', '인플레이션_크롤링센텐스.csv']\n"
     ]
    }
   ],
   "source": [
    "import os\n",
    "\n",
    "path = \"./\"\n",
    "file_list = os.listdir(path)\n",
    "file_list_py = [file for file in file_list if file.endswith(\".csv\")]\n",
    "\n",
    "print (\"file_list_py: {}\".format(file_list_py))"
   ]
  },
  {
   "cell_type": "code",
   "execution_count": 4,
   "id": "40aeb567",
   "metadata": {},
   "outputs": [
    {
     "data": {
      "text/plain": [
       "['재무_크롤링센텐스.csv',\n",
       " '경제_크롤링센텐스.csv',\n",
       " '경영_크롤링센텐스.csv',\n",
       " '이율_크롤링센텐스.csv',\n",
       " '소득_크롤링센텐스.csv',\n",
       " '부동산_크롤링센텐스.csv',\n",
       " '환율_크롤링센텐스.csv',\n",
       " '재정_크롤링센텐스.csv',\n",
       " 'gdp_크롤링센텐스.csv',\n",
       " '재화_크롤링센텐스.csv',\n",
       " '투자_크롤링센텐스.csv',\n",
       " '소비자물가지수_크롤링센텐스.csv',\n",
       " '디플레이션_크롤링센텐스.csv',\n",
       " '금리_크롤링센텐스.csv',\n",
       " '인플레이션_크롤링센텐스.csv']"
      ]
     },
     "execution_count": 4,
     "metadata": {},
     "output_type": "execute_result"
    }
   ],
   "source": [
    "file_list_py"
   ]
  },
  {
   "cell_type": "code",
   "execution_count": 16,
   "id": "5cb2f5ff",
   "metadata": {},
   "outputs": [],
   "source": [
    "import pandas as pd\n",
    "\n",
    "\n",
    "eco_data = pd.DataFrame(columns=['sentence'])\n",
    "\n",
    "\n",
    "for file in file_list:\n",
    "    if file.endswith(\".csv\"):\n",
    "        tmp = pd.read_csv(file)\n",
    "        del tmp['Unnamed: 0']\n",
    "        eco_data=pd.concat([eco_data,tmp])\n",
    "        \n",
    "        \n",
    "        \n",
    "        \n",
    "        "
   ]
  },
  {
   "cell_type": "code",
   "execution_count": 24,
   "id": "31be0140",
   "metadata": {},
   "outputs": [],
   "source": [
    "sentence = eco_data['sentence'].unique()"
   ]
  },
  {
   "cell_type": "code",
   "execution_count": 25,
   "id": "8ab2bd27",
   "metadata": {},
   "outputs": [],
   "source": [
    "total_eco_data = pd.DataFrame(sentence, columns = ['sentence'])"
   ]
  },
  {
   "cell_type": "code",
   "execution_count": 28,
   "id": "2e8157a7",
   "metadata": {},
   "outputs": [
    {
     "data": {
      "text/plain": [
       "139840"
      ]
     },
     "execution_count": 28,
     "metadata": {},
     "output_type": "execute_result"
    }
   ],
   "source": [
    "total_eco_data['sentence'].nunique()"
   ]
  },
  {
   "cell_type": "code",
   "execution_count": 29,
   "id": "ba80a36f",
   "metadata": {},
   "outputs": [],
   "source": [
    "total_eco_data.to_csv(\"total_economic_sentence.csv\")"
   ]
  },
  {
   "cell_type": "code",
   "execution_count": null,
   "id": "01061d84",
   "metadata": {},
   "outputs": [],
   "source": []
  }
 ],
 "metadata": {
  "kernelspec": {
   "display_name": "Python 3",
   "language": "python",
   "name": "python3"
  },
  "language_info": {
   "codemirror_mode": {
    "name": "ipython",
    "version": 3
   },
   "file_extension": ".py",
   "mimetype": "text/x-python",
   "name": "python",
   "nbconvert_exporter": "python",
   "pygments_lexer": "ipython3",
   "version": "3.7.7"
  }
 },
 "nbformat": 4,
 "nbformat_minor": 5
}
