{
 "cells": [
  {
   "cell_type": "code",
   "execution_count": 1,
   "id": "01a33308",
   "metadata": {
    "scrolled": true
   },
   "outputs": [
    {
     "name": "stdout",
     "output_type": "stream",
     "text": [
      "검색할 키워드를 입력해주세요:재정\n",
      "\n",
      "크롤링할 시작 페이지를 입력해주세요. ex)1(숫자만입력):1\n",
      "\n",
      "크롤링할 시작 페이지:  1 페이지\n",
      "\n",
      "크롤링할 종료 페이지를 입력해주세요. ex)1(숫자만입력):400\n",
      "\n",
      "크롤링할 종료 페이지:  400 페이지\n",
      "생성url:  ['https://search.naver.com/search.naver?where=news&sm=tab_pge&query=재정&start=1', 'https://search.naver.com/search.naver?where=news&sm=tab_pge&query=재정&start=11', 'https://search.naver.com/search.naver?where=news&sm=tab_pge&query=재정&start=21', 'https://search.naver.com/search.naver?where=news&sm=tab_pge&query=재정&start=31', 'https://search.naver.com/search.naver?where=news&sm=tab_pge&query=재정&start=41', 'https://search.naver.com/search.naver?where=news&sm=tab_pge&query=재정&start=51', 'https://search.naver.com/search.naver?where=news&sm=tab_pge&query=재정&start=61', 'https://search.naver.com/search.naver?where=news&sm=tab_pge&query=재정&start=71', 'https://search.naver.com/search.naver?where=news&sm=tab_pge&query=재정&start=81', 'https://search.naver.com/search.naver?where=news&sm=tab_pge&query=재정&start=91', 'https://search.naver.com/search.naver?where=news&sm=tab_pge&query=재정&start=101', 'https://search.naver.com/search.naver?where=news&sm=tab_pge&query=재정&start=111', 'https://search.naver.com/search.naver?where=news&sm=tab_pge&query=재정&start=121', 'https://search.naver.com/search.naver?where=news&sm=tab_pge&query=재정&start=131', 'https://search.naver.com/search.naver?where=news&sm=tab_pge&query=재정&start=141', 'https://search.naver.com/search.naver?where=news&sm=tab_pge&query=재정&start=151', 'https://search.naver.com/search.naver?where=news&sm=tab_pge&query=재정&start=161', 'https://search.naver.com/search.naver?where=news&sm=tab_pge&query=재정&start=171', 'https://search.naver.com/search.naver?where=news&sm=tab_pge&query=재정&start=181', 'https://search.naver.com/search.naver?where=news&sm=tab_pge&query=재정&start=191', 'https://search.naver.com/search.naver?where=news&sm=tab_pge&query=재정&start=201', 'https://search.naver.com/search.naver?where=news&sm=tab_pge&query=재정&start=211', 'https://search.naver.com/search.naver?where=news&sm=tab_pge&query=재정&start=221', 'https://search.naver.com/search.naver?where=news&sm=tab_pge&query=재정&start=231', 'https://search.naver.com/search.naver?where=news&sm=tab_pge&query=재정&start=241', 'https://search.naver.com/search.naver?where=news&sm=tab_pge&query=재정&start=251', 'https://search.naver.com/search.naver?where=news&sm=tab_pge&query=재정&start=261', 'https://search.naver.com/search.naver?where=news&sm=tab_pge&query=재정&start=271', 'https://search.naver.com/search.naver?where=news&sm=tab_pge&query=재정&start=281', 'https://search.naver.com/search.naver?where=news&sm=tab_pge&query=재정&start=291', 'https://search.naver.com/search.naver?where=news&sm=tab_pge&query=재정&start=301', 'https://search.naver.com/search.naver?where=news&sm=tab_pge&query=재정&start=311', 'https://search.naver.com/search.naver?where=news&sm=tab_pge&query=재정&start=321', 'https://search.naver.com/search.naver?where=news&sm=tab_pge&query=재정&start=331', 'https://search.naver.com/search.naver?where=news&sm=tab_pge&query=재정&start=341', 'https://search.naver.com/search.naver?where=news&sm=tab_pge&query=재정&start=351', 'https://search.naver.com/search.naver?where=news&sm=tab_pge&query=재정&start=361', 'https://search.naver.com/search.naver?where=news&sm=tab_pge&query=재정&start=371', 'https://search.naver.com/search.naver?where=news&sm=tab_pge&query=재정&start=381', 'https://search.naver.com/search.naver?where=news&sm=tab_pge&query=재정&start=391', 'https://search.naver.com/search.naver?where=news&sm=tab_pge&query=재정&start=401', 'https://search.naver.com/search.naver?where=news&sm=tab_pge&query=재정&start=411', 'https://search.naver.com/search.naver?where=news&sm=tab_pge&query=재정&start=421', 'https://search.naver.com/search.naver?where=news&sm=tab_pge&query=재정&start=431', 'https://search.naver.com/search.naver?where=news&sm=tab_pge&query=재정&start=441', 'https://search.naver.com/search.naver?where=news&sm=tab_pge&query=재정&start=451', 'https://search.naver.com/search.naver?where=news&sm=tab_pge&query=재정&start=461', 'https://search.naver.com/search.naver?where=news&sm=tab_pge&query=재정&start=471', 'https://search.naver.com/search.naver?where=news&sm=tab_pge&query=재정&start=481', 'https://search.naver.com/search.naver?where=news&sm=tab_pge&query=재정&start=491', 'https://search.naver.com/search.naver?where=news&sm=tab_pge&query=재정&start=501', 'https://search.naver.com/search.naver?where=news&sm=tab_pge&query=재정&start=511', 'https://search.naver.com/search.naver?where=news&sm=tab_pge&query=재정&start=521', 'https://search.naver.com/search.naver?where=news&sm=tab_pge&query=재정&start=531', 'https://search.naver.com/search.naver?where=news&sm=tab_pge&query=재정&start=541', 'https://search.naver.com/search.naver?where=news&sm=tab_pge&query=재정&start=551', 'https://search.naver.com/search.naver?where=news&sm=tab_pge&query=재정&start=561', 'https://search.naver.com/search.naver?where=news&sm=tab_pge&query=재정&start=571', 'https://search.naver.com/search.naver?where=news&sm=tab_pge&query=재정&start=581', 'https://search.naver.com/search.naver?where=news&sm=tab_pge&query=재정&start=591', 'https://search.naver.com/search.naver?where=news&sm=tab_pge&query=재정&start=601', 'https://search.naver.com/search.naver?where=news&sm=tab_pge&query=재정&start=611', 'https://search.naver.com/search.naver?where=news&sm=tab_pge&query=재정&start=621', 'https://search.naver.com/search.naver?where=news&sm=tab_pge&query=재정&start=631', 'https://search.naver.com/search.naver?where=news&sm=tab_pge&query=재정&start=641', 'https://search.naver.com/search.naver?where=news&sm=tab_pge&query=재정&start=651', 'https://search.naver.com/search.naver?where=news&sm=tab_pge&query=재정&start=661', 'https://search.naver.com/search.naver?where=news&sm=tab_pge&query=재정&start=671', 'https://search.naver.com/search.naver?where=news&sm=tab_pge&query=재정&start=681', 'https://search.naver.com/search.naver?where=news&sm=tab_pge&query=재정&start=691', 'https://search.naver.com/search.naver?where=news&sm=tab_pge&query=재정&start=701', 'https://search.naver.com/search.naver?where=news&sm=tab_pge&query=재정&start=711', 'https://search.naver.com/search.naver?where=news&sm=tab_pge&query=재정&start=721', 'https://search.naver.com/search.naver?where=news&sm=tab_pge&query=재정&start=731', 'https://search.naver.com/search.naver?where=news&sm=tab_pge&query=재정&start=741', 'https://search.naver.com/search.naver?where=news&sm=tab_pge&query=재정&start=751', 'https://search.naver.com/search.naver?where=news&sm=tab_pge&query=재정&start=761', 'https://search.naver.com/search.naver?where=news&sm=tab_pge&query=재정&start=771', 'https://search.naver.com/search.naver?where=news&sm=tab_pge&query=재정&start=781', 'https://search.naver.com/search.naver?where=news&sm=tab_pge&query=재정&start=791', 'https://search.naver.com/search.naver?where=news&sm=tab_pge&query=재정&start=801', 'https://search.naver.com/search.naver?where=news&sm=tab_pge&query=재정&start=811', 'https://search.naver.com/search.naver?where=news&sm=tab_pge&query=재정&start=821', 'https://search.naver.com/search.naver?where=news&sm=tab_pge&query=재정&start=831', 'https://search.naver.com/search.naver?where=news&sm=tab_pge&query=재정&start=841', 'https://search.naver.com/search.naver?where=news&sm=tab_pge&query=재정&start=851', 'https://search.naver.com/search.naver?where=news&sm=tab_pge&query=재정&start=861', 'https://search.naver.com/search.naver?where=news&sm=tab_pge&query=재정&start=871', 'https://search.naver.com/search.naver?where=news&sm=tab_pge&query=재정&start=881', 'https://search.naver.com/search.naver?where=news&sm=tab_pge&query=재정&start=891', 'https://search.naver.com/search.naver?where=news&sm=tab_pge&query=재정&start=901', 'https://search.naver.com/search.naver?where=news&sm=tab_pge&query=재정&start=911', 'https://search.naver.com/search.naver?where=news&sm=tab_pge&query=재정&start=921', 'https://search.naver.com/search.naver?where=news&sm=tab_pge&query=재정&start=931', 'https://search.naver.com/search.naver?where=news&sm=tab_pge&query=재정&start=941', 'https://search.naver.com/search.naver?where=news&sm=tab_pge&query=재정&start=951', 'https://search.naver.com/search.naver?where=news&sm=tab_pge&query=재정&start=961', 'https://search.naver.com/search.naver?where=news&sm=tab_pge&query=재정&start=971', 'https://search.naver.com/search.naver?where=news&sm=tab_pge&query=재정&start=981', 'https://search.naver.com/search.naver?where=news&sm=tab_pge&query=재정&start=991', 'https://search.naver.com/search.naver?where=news&sm=tab_pge&query=재정&start=1001', 'https://search.naver.com/search.naver?where=news&sm=tab_pge&query=재정&start=1011', 'https://search.naver.com/search.naver?where=news&sm=tab_pge&query=재정&start=1021', 'https://search.naver.com/search.naver?where=news&sm=tab_pge&query=재정&start=1031', 'https://search.naver.com/search.naver?where=news&sm=tab_pge&query=재정&start=1041', 'https://search.naver.com/search.naver?where=news&sm=tab_pge&query=재정&start=1051', 'https://search.naver.com/search.naver?where=news&sm=tab_pge&query=재정&start=1061', 'https://search.naver.com/search.naver?where=news&sm=tab_pge&query=재정&start=1071', 'https://search.naver.com/search.naver?where=news&sm=tab_pge&query=재정&start=1081', 'https://search.naver.com/search.naver?where=news&sm=tab_pge&query=재정&start=1091', 'https://search.naver.com/search.naver?where=news&sm=tab_pge&query=재정&start=1101', 'https://search.naver.com/search.naver?where=news&sm=tab_pge&query=재정&start=1111', 'https://search.naver.com/search.naver?where=news&sm=tab_pge&query=재정&start=1121', 'https://search.naver.com/search.naver?where=news&sm=tab_pge&query=재정&start=1131', 'https://search.naver.com/search.naver?where=news&sm=tab_pge&query=재정&start=1141', 'https://search.naver.com/search.naver?where=news&sm=tab_pge&query=재정&start=1151', 'https://search.naver.com/search.naver?where=news&sm=tab_pge&query=재정&start=1161', 'https://search.naver.com/search.naver?where=news&sm=tab_pge&query=재정&start=1171', 'https://search.naver.com/search.naver?where=news&sm=tab_pge&query=재정&start=1181', 'https://search.naver.com/search.naver?where=news&sm=tab_pge&query=재정&start=1191', 'https://search.naver.com/search.naver?where=news&sm=tab_pge&query=재정&start=1201', 'https://search.naver.com/search.naver?where=news&sm=tab_pge&query=재정&start=1211', 'https://search.naver.com/search.naver?where=news&sm=tab_pge&query=재정&start=1221', 'https://search.naver.com/search.naver?where=news&sm=tab_pge&query=재정&start=1231', 'https://search.naver.com/search.naver?where=news&sm=tab_pge&query=재정&start=1241', 'https://search.naver.com/search.naver?where=news&sm=tab_pge&query=재정&start=1251', 'https://search.naver.com/search.naver?where=news&sm=tab_pge&query=재정&start=1261', 'https://search.naver.com/search.naver?where=news&sm=tab_pge&query=재정&start=1271', 'https://search.naver.com/search.naver?where=news&sm=tab_pge&query=재정&start=1281', 'https://search.naver.com/search.naver?where=news&sm=tab_pge&query=재정&start=1291', 'https://search.naver.com/search.naver?where=news&sm=tab_pge&query=재정&start=1301', 'https://search.naver.com/search.naver?where=news&sm=tab_pge&query=재정&start=1311', 'https://search.naver.com/search.naver?where=news&sm=tab_pge&query=재정&start=1321', 'https://search.naver.com/search.naver?where=news&sm=tab_pge&query=재정&start=1331', 'https://search.naver.com/search.naver?where=news&sm=tab_pge&query=재정&start=1341', 'https://search.naver.com/search.naver?where=news&sm=tab_pge&query=재정&start=1351', 'https://search.naver.com/search.naver?where=news&sm=tab_pge&query=재정&start=1361', 'https://search.naver.com/search.naver?where=news&sm=tab_pge&query=재정&start=1371', 'https://search.naver.com/search.naver?where=news&sm=tab_pge&query=재정&start=1381', 'https://search.naver.com/search.naver?where=news&sm=tab_pge&query=재정&start=1391', 'https://search.naver.com/search.naver?where=news&sm=tab_pge&query=재정&start=1401', 'https://search.naver.com/search.naver?where=news&sm=tab_pge&query=재정&start=1411', 'https://search.naver.com/search.naver?where=news&sm=tab_pge&query=재정&start=1421', 'https://search.naver.com/search.naver?where=news&sm=tab_pge&query=재정&start=1431', 'https://search.naver.com/search.naver?where=news&sm=tab_pge&query=재정&start=1441', 'https://search.naver.com/search.naver?where=news&sm=tab_pge&query=재정&start=1451', 'https://search.naver.com/search.naver?where=news&sm=tab_pge&query=재정&start=1461', 'https://search.naver.com/search.naver?where=news&sm=tab_pge&query=재정&start=1471', 'https://search.naver.com/search.naver?where=news&sm=tab_pge&query=재정&start=1481', 'https://search.naver.com/search.naver?where=news&sm=tab_pge&query=재정&start=1491', 'https://search.naver.com/search.naver?where=news&sm=tab_pge&query=재정&start=1501', 'https://search.naver.com/search.naver?where=news&sm=tab_pge&query=재정&start=1511', 'https://search.naver.com/search.naver?where=news&sm=tab_pge&query=재정&start=1521', 'https://search.naver.com/search.naver?where=news&sm=tab_pge&query=재정&start=1531', 'https://search.naver.com/search.naver?where=news&sm=tab_pge&query=재정&start=1541', 'https://search.naver.com/search.naver?where=news&sm=tab_pge&query=재정&start=1551', 'https://search.naver.com/search.naver?where=news&sm=tab_pge&query=재정&start=1561', 'https://search.naver.com/search.naver?where=news&sm=tab_pge&query=재정&start=1571', 'https://search.naver.com/search.naver?where=news&sm=tab_pge&query=재정&start=1581', 'https://search.naver.com/search.naver?where=news&sm=tab_pge&query=재정&start=1591', 'https://search.naver.com/search.naver?where=news&sm=tab_pge&query=재정&start=1601', 'https://search.naver.com/search.naver?where=news&sm=tab_pge&query=재정&start=1611', 'https://search.naver.com/search.naver?where=news&sm=tab_pge&query=재정&start=1621', 'https://search.naver.com/search.naver?where=news&sm=tab_pge&query=재정&start=1631', 'https://search.naver.com/search.naver?where=news&sm=tab_pge&query=재정&start=1641', 'https://search.naver.com/search.naver?where=news&sm=tab_pge&query=재정&start=1651', 'https://search.naver.com/search.naver?where=news&sm=tab_pge&query=재정&start=1661', 'https://search.naver.com/search.naver?where=news&sm=tab_pge&query=재정&start=1671', 'https://search.naver.com/search.naver?where=news&sm=tab_pge&query=재정&start=1681', 'https://search.naver.com/search.naver?where=news&sm=tab_pge&query=재정&start=1691', 'https://search.naver.com/search.naver?where=news&sm=tab_pge&query=재정&start=1701', 'https://search.naver.com/search.naver?where=news&sm=tab_pge&query=재정&start=1711', 'https://search.naver.com/search.naver?where=news&sm=tab_pge&query=재정&start=1721', 'https://search.naver.com/search.naver?where=news&sm=tab_pge&query=재정&start=1731', 'https://search.naver.com/search.naver?where=news&sm=tab_pge&query=재정&start=1741', 'https://search.naver.com/search.naver?where=news&sm=tab_pge&query=재정&start=1751', 'https://search.naver.com/search.naver?where=news&sm=tab_pge&query=재정&start=1761', 'https://search.naver.com/search.naver?where=news&sm=tab_pge&query=재정&start=1771', 'https://search.naver.com/search.naver?where=news&sm=tab_pge&query=재정&start=1781', 'https://search.naver.com/search.naver?where=news&sm=tab_pge&query=재정&start=1791', 'https://search.naver.com/search.naver?where=news&sm=tab_pge&query=재정&start=1801', 'https://search.naver.com/search.naver?where=news&sm=tab_pge&query=재정&start=1811', 'https://search.naver.com/search.naver?where=news&sm=tab_pge&query=재정&start=1821', 'https://search.naver.com/search.naver?where=news&sm=tab_pge&query=재정&start=1831', 'https://search.naver.com/search.naver?where=news&sm=tab_pge&query=재정&start=1841', 'https://search.naver.com/search.naver?where=news&sm=tab_pge&query=재정&start=1851', 'https://search.naver.com/search.naver?where=news&sm=tab_pge&query=재정&start=1861', 'https://search.naver.com/search.naver?where=news&sm=tab_pge&query=재정&start=1871', 'https://search.naver.com/search.naver?where=news&sm=tab_pge&query=재정&start=1881', 'https://search.naver.com/search.naver?where=news&sm=tab_pge&query=재정&start=1891', 'https://search.naver.com/search.naver?where=news&sm=tab_pge&query=재정&start=1901', 'https://search.naver.com/search.naver?where=news&sm=tab_pge&query=재정&start=1911', 'https://search.naver.com/search.naver?where=news&sm=tab_pge&query=재정&start=1921', 'https://search.naver.com/search.naver?where=news&sm=tab_pge&query=재정&start=1931', 'https://search.naver.com/search.naver?where=news&sm=tab_pge&query=재정&start=1941', 'https://search.naver.com/search.naver?where=news&sm=tab_pge&query=재정&start=1951', 'https://search.naver.com/search.naver?where=news&sm=tab_pge&query=재정&start=1961', 'https://search.naver.com/search.naver?where=news&sm=tab_pge&query=재정&start=1971', 'https://search.naver.com/search.naver?where=news&sm=tab_pge&query=재정&start=1981', 'https://search.naver.com/search.naver?where=news&sm=tab_pge&query=재정&start=1991', 'https://search.naver.com/search.naver?where=news&sm=tab_pge&query=재정&start=2001', 'https://search.naver.com/search.naver?where=news&sm=tab_pge&query=재정&start=2011', 'https://search.naver.com/search.naver?where=news&sm=tab_pge&query=재정&start=2021', 'https://search.naver.com/search.naver?where=news&sm=tab_pge&query=재정&start=2031', 'https://search.naver.com/search.naver?where=news&sm=tab_pge&query=재정&start=2041', 'https://search.naver.com/search.naver?where=news&sm=tab_pge&query=재정&start=2051', 'https://search.naver.com/search.naver?where=news&sm=tab_pge&query=재정&start=2061', 'https://search.naver.com/search.naver?where=news&sm=tab_pge&query=재정&start=2071', 'https://search.naver.com/search.naver?where=news&sm=tab_pge&query=재정&start=2081', 'https://search.naver.com/search.naver?where=news&sm=tab_pge&query=재정&start=2091', 'https://search.naver.com/search.naver?where=news&sm=tab_pge&query=재정&start=2101', 'https://search.naver.com/search.naver?where=news&sm=tab_pge&query=재정&start=2111', 'https://search.naver.com/search.naver?where=news&sm=tab_pge&query=재정&start=2121', 'https://search.naver.com/search.naver?where=news&sm=tab_pge&query=재정&start=2131', 'https://search.naver.com/search.naver?where=news&sm=tab_pge&query=재정&start=2141', 'https://search.naver.com/search.naver?where=news&sm=tab_pge&query=재정&start=2151', 'https://search.naver.com/search.naver?where=news&sm=tab_pge&query=재정&start=2161', 'https://search.naver.com/search.naver?where=news&sm=tab_pge&query=재정&start=2171', 'https://search.naver.com/search.naver?where=news&sm=tab_pge&query=재정&start=2181', 'https://search.naver.com/search.naver?where=news&sm=tab_pge&query=재정&start=2191', 'https://search.naver.com/search.naver?where=news&sm=tab_pge&query=재정&start=2201', 'https://search.naver.com/search.naver?where=news&sm=tab_pge&query=재정&start=2211', 'https://search.naver.com/search.naver?where=news&sm=tab_pge&query=재정&start=2221', 'https://search.naver.com/search.naver?where=news&sm=tab_pge&query=재정&start=2231', 'https://search.naver.com/search.naver?where=news&sm=tab_pge&query=재정&start=2241', 'https://search.naver.com/search.naver?where=news&sm=tab_pge&query=재정&start=2251', 'https://search.naver.com/search.naver?where=news&sm=tab_pge&query=재정&start=2261', 'https://search.naver.com/search.naver?where=news&sm=tab_pge&query=재정&start=2271', 'https://search.naver.com/search.naver?where=news&sm=tab_pge&query=재정&start=2281', 'https://search.naver.com/search.naver?where=news&sm=tab_pge&query=재정&start=2291', 'https://search.naver.com/search.naver?where=news&sm=tab_pge&query=재정&start=2301', 'https://search.naver.com/search.naver?where=news&sm=tab_pge&query=재정&start=2311', 'https://search.naver.com/search.naver?where=news&sm=tab_pge&query=재정&start=2321', 'https://search.naver.com/search.naver?where=news&sm=tab_pge&query=재정&start=2331', 'https://search.naver.com/search.naver?where=news&sm=tab_pge&query=재정&start=2341', 'https://search.naver.com/search.naver?where=news&sm=tab_pge&query=재정&start=2351', 'https://search.naver.com/search.naver?where=news&sm=tab_pge&query=재정&start=2361', 'https://search.naver.com/search.naver?where=news&sm=tab_pge&query=재정&start=2371', 'https://search.naver.com/search.naver?where=news&sm=tab_pge&query=재정&start=2381', 'https://search.naver.com/search.naver?where=news&sm=tab_pge&query=재정&start=2391', 'https://search.naver.com/search.naver?where=news&sm=tab_pge&query=재정&start=2401', 'https://search.naver.com/search.naver?where=news&sm=tab_pge&query=재정&start=2411', 'https://search.naver.com/search.naver?where=news&sm=tab_pge&query=재정&start=2421', 'https://search.naver.com/search.naver?where=news&sm=tab_pge&query=재정&start=2431', 'https://search.naver.com/search.naver?where=news&sm=tab_pge&query=재정&start=2441', 'https://search.naver.com/search.naver?where=news&sm=tab_pge&query=재정&start=2451', 'https://search.naver.com/search.naver?where=news&sm=tab_pge&query=재정&start=2461', 'https://search.naver.com/search.naver?where=news&sm=tab_pge&query=재정&start=2471', 'https://search.naver.com/search.naver?where=news&sm=tab_pge&query=재정&start=2481', 'https://search.naver.com/search.naver?where=news&sm=tab_pge&query=재정&start=2491', 'https://search.naver.com/search.naver?where=news&sm=tab_pge&query=재정&start=2501', 'https://search.naver.com/search.naver?where=news&sm=tab_pge&query=재정&start=2511', 'https://search.naver.com/search.naver?where=news&sm=tab_pge&query=재정&start=2521', 'https://search.naver.com/search.naver?where=news&sm=tab_pge&query=재정&start=2531', 'https://search.naver.com/search.naver?where=news&sm=tab_pge&query=재정&start=2541', 'https://search.naver.com/search.naver?where=news&sm=tab_pge&query=재정&start=2551', 'https://search.naver.com/search.naver?where=news&sm=tab_pge&query=재정&start=2561', 'https://search.naver.com/search.naver?where=news&sm=tab_pge&query=재정&start=2571', 'https://search.naver.com/search.naver?where=news&sm=tab_pge&query=재정&start=2581', 'https://search.naver.com/search.naver?where=news&sm=tab_pge&query=재정&start=2591', 'https://search.naver.com/search.naver?where=news&sm=tab_pge&query=재정&start=2601', 'https://search.naver.com/search.naver?where=news&sm=tab_pge&query=재정&start=2611', 'https://search.naver.com/search.naver?where=news&sm=tab_pge&query=재정&start=2621', 'https://search.naver.com/search.naver?where=news&sm=tab_pge&query=재정&start=2631', 'https://search.naver.com/search.naver?where=news&sm=tab_pge&query=재정&start=2641', 'https://search.naver.com/search.naver?where=news&sm=tab_pge&query=재정&start=2651', 'https://search.naver.com/search.naver?where=news&sm=tab_pge&query=재정&start=2661', 'https://search.naver.com/search.naver?where=news&sm=tab_pge&query=재정&start=2671', 'https://search.naver.com/search.naver?where=news&sm=tab_pge&query=재정&start=2681', 'https://search.naver.com/search.naver?where=news&sm=tab_pge&query=재정&start=2691', 'https://search.naver.com/search.naver?where=news&sm=tab_pge&query=재정&start=2701', 'https://search.naver.com/search.naver?where=news&sm=tab_pge&query=재정&start=2711', 'https://search.naver.com/search.naver?where=news&sm=tab_pge&query=재정&start=2721', 'https://search.naver.com/search.naver?where=news&sm=tab_pge&query=재정&start=2731', 'https://search.naver.com/search.naver?where=news&sm=tab_pge&query=재정&start=2741', 'https://search.naver.com/search.naver?where=news&sm=tab_pge&query=재정&start=2751', 'https://search.naver.com/search.naver?where=news&sm=tab_pge&query=재정&start=2761', 'https://search.naver.com/search.naver?where=news&sm=tab_pge&query=재정&start=2771', 'https://search.naver.com/search.naver?where=news&sm=tab_pge&query=재정&start=2781', 'https://search.naver.com/search.naver?where=news&sm=tab_pge&query=재정&start=2791', 'https://search.naver.com/search.naver?where=news&sm=tab_pge&query=재정&start=2801', 'https://search.naver.com/search.naver?where=news&sm=tab_pge&query=재정&start=2811', 'https://search.naver.com/search.naver?where=news&sm=tab_pge&query=재정&start=2821', 'https://search.naver.com/search.naver?where=news&sm=tab_pge&query=재정&start=2831', 'https://search.naver.com/search.naver?where=news&sm=tab_pge&query=재정&start=2841', 'https://search.naver.com/search.naver?where=news&sm=tab_pge&query=재정&start=2851', 'https://search.naver.com/search.naver?where=news&sm=tab_pge&query=재정&start=2861', 'https://search.naver.com/search.naver?where=news&sm=tab_pge&query=재정&start=2871', 'https://search.naver.com/search.naver?where=news&sm=tab_pge&query=재정&start=2881', 'https://search.naver.com/search.naver?where=news&sm=tab_pge&query=재정&start=2891', 'https://search.naver.com/search.naver?where=news&sm=tab_pge&query=재정&start=2901', 'https://search.naver.com/search.naver?where=news&sm=tab_pge&query=재정&start=2911', 'https://search.naver.com/search.naver?where=news&sm=tab_pge&query=재정&start=2921', 'https://search.naver.com/search.naver?where=news&sm=tab_pge&query=재정&start=2931', 'https://search.naver.com/search.naver?where=news&sm=tab_pge&query=재정&start=2941', 'https://search.naver.com/search.naver?where=news&sm=tab_pge&query=재정&start=2951', 'https://search.naver.com/search.naver?where=news&sm=tab_pge&query=재정&start=2961', 'https://search.naver.com/search.naver?where=news&sm=tab_pge&query=재정&start=2971', 'https://search.naver.com/search.naver?where=news&sm=tab_pge&query=재정&start=2981', 'https://search.naver.com/search.naver?where=news&sm=tab_pge&query=재정&start=2991', 'https://search.naver.com/search.naver?where=news&sm=tab_pge&query=재정&start=3001', 'https://search.naver.com/search.naver?where=news&sm=tab_pge&query=재정&start=3011', 'https://search.naver.com/search.naver?where=news&sm=tab_pge&query=재정&start=3021', 'https://search.naver.com/search.naver?where=news&sm=tab_pge&query=재정&start=3031', 'https://search.naver.com/search.naver?where=news&sm=tab_pge&query=재정&start=3041', 'https://search.naver.com/search.naver?where=news&sm=tab_pge&query=재정&start=3051', 'https://search.naver.com/search.naver?where=news&sm=tab_pge&query=재정&start=3061', 'https://search.naver.com/search.naver?where=news&sm=tab_pge&query=재정&start=3071', 'https://search.naver.com/search.naver?where=news&sm=tab_pge&query=재정&start=3081', 'https://search.naver.com/search.naver?where=news&sm=tab_pge&query=재정&start=3091', 'https://search.naver.com/search.naver?where=news&sm=tab_pge&query=재정&start=3101', 'https://search.naver.com/search.naver?where=news&sm=tab_pge&query=재정&start=3111', 'https://search.naver.com/search.naver?where=news&sm=tab_pge&query=재정&start=3121', 'https://search.naver.com/search.naver?where=news&sm=tab_pge&query=재정&start=3131', 'https://search.naver.com/search.naver?where=news&sm=tab_pge&query=재정&start=3141', 'https://search.naver.com/search.naver?where=news&sm=tab_pge&query=재정&start=3151', 'https://search.naver.com/search.naver?where=news&sm=tab_pge&query=재정&start=3161', 'https://search.naver.com/search.naver?where=news&sm=tab_pge&query=재정&start=3171', 'https://search.naver.com/search.naver?where=news&sm=tab_pge&query=재정&start=3181', 'https://search.naver.com/search.naver?where=news&sm=tab_pge&query=재정&start=3191', 'https://search.naver.com/search.naver?where=news&sm=tab_pge&query=재정&start=3201', 'https://search.naver.com/search.naver?where=news&sm=tab_pge&query=재정&start=3211', 'https://search.naver.com/search.naver?where=news&sm=tab_pge&query=재정&start=3221', 'https://search.naver.com/search.naver?where=news&sm=tab_pge&query=재정&start=3231', 'https://search.naver.com/search.naver?where=news&sm=tab_pge&query=재정&start=3241', 'https://search.naver.com/search.naver?where=news&sm=tab_pge&query=재정&start=3251', 'https://search.naver.com/search.naver?where=news&sm=tab_pge&query=재정&start=3261', 'https://search.naver.com/search.naver?where=news&sm=tab_pge&query=재정&start=3271', 'https://search.naver.com/search.naver?where=news&sm=tab_pge&query=재정&start=3281', 'https://search.naver.com/search.naver?where=news&sm=tab_pge&query=재정&start=3291', 'https://search.naver.com/search.naver?where=news&sm=tab_pge&query=재정&start=3301', 'https://search.naver.com/search.naver?where=news&sm=tab_pge&query=재정&start=3311', 'https://search.naver.com/search.naver?where=news&sm=tab_pge&query=재정&start=3321', 'https://search.naver.com/search.naver?where=news&sm=tab_pge&query=재정&start=3331', 'https://search.naver.com/search.naver?where=news&sm=tab_pge&query=재정&start=3341', 'https://search.naver.com/search.naver?where=news&sm=tab_pge&query=재정&start=3351', 'https://search.naver.com/search.naver?where=news&sm=tab_pge&query=재정&start=3361', 'https://search.naver.com/search.naver?where=news&sm=tab_pge&query=재정&start=3371', 'https://search.naver.com/search.naver?where=news&sm=tab_pge&query=재정&start=3381', 'https://search.naver.com/search.naver?where=news&sm=tab_pge&query=재정&start=3391', 'https://search.naver.com/search.naver?where=news&sm=tab_pge&query=재정&start=3401', 'https://search.naver.com/search.naver?where=news&sm=tab_pge&query=재정&start=3411', 'https://search.naver.com/search.naver?where=news&sm=tab_pge&query=재정&start=3421', 'https://search.naver.com/search.naver?where=news&sm=tab_pge&query=재정&start=3431', 'https://search.naver.com/search.naver?where=news&sm=tab_pge&query=재정&start=3441', 'https://search.naver.com/search.naver?where=news&sm=tab_pge&query=재정&start=3451', 'https://search.naver.com/search.naver?where=news&sm=tab_pge&query=재정&start=3461', 'https://search.naver.com/search.naver?where=news&sm=tab_pge&query=재정&start=3471', 'https://search.naver.com/search.naver?where=news&sm=tab_pge&query=재정&start=3481', 'https://search.naver.com/search.naver?where=news&sm=tab_pge&query=재정&start=3491', 'https://search.naver.com/search.naver?where=news&sm=tab_pge&query=재정&start=3501', 'https://search.naver.com/search.naver?where=news&sm=tab_pge&query=재정&start=3511', 'https://search.naver.com/search.naver?where=news&sm=tab_pge&query=재정&start=3521', 'https://search.naver.com/search.naver?where=news&sm=tab_pge&query=재정&start=3531', 'https://search.naver.com/search.naver?where=news&sm=tab_pge&query=재정&start=3541', 'https://search.naver.com/search.naver?where=news&sm=tab_pge&query=재정&start=3551', 'https://search.naver.com/search.naver?where=news&sm=tab_pge&query=재정&start=3561', 'https://search.naver.com/search.naver?where=news&sm=tab_pge&query=재정&start=3571', 'https://search.naver.com/search.naver?where=news&sm=tab_pge&query=재정&start=3581', 'https://search.naver.com/search.naver?where=news&sm=tab_pge&query=재정&start=3591', 'https://search.naver.com/search.naver?where=news&sm=tab_pge&query=재정&start=3601', 'https://search.naver.com/search.naver?where=news&sm=tab_pge&query=재정&start=3611', 'https://search.naver.com/search.naver?where=news&sm=tab_pge&query=재정&start=3621', 'https://search.naver.com/search.naver?where=news&sm=tab_pge&query=재정&start=3631', 'https://search.naver.com/search.naver?where=news&sm=tab_pge&query=재정&start=3641', 'https://search.naver.com/search.naver?where=news&sm=tab_pge&query=재정&start=3651', 'https://search.naver.com/search.naver?where=news&sm=tab_pge&query=재정&start=3661', 'https://search.naver.com/search.naver?where=news&sm=tab_pge&query=재정&start=3671', 'https://search.naver.com/search.naver?where=news&sm=tab_pge&query=재정&start=3681', 'https://search.naver.com/search.naver?where=news&sm=tab_pge&query=재정&start=3691', 'https://search.naver.com/search.naver?where=news&sm=tab_pge&query=재정&start=3701', 'https://search.naver.com/search.naver?where=news&sm=tab_pge&query=재정&start=3711', 'https://search.naver.com/search.naver?where=news&sm=tab_pge&query=재정&start=3721', 'https://search.naver.com/search.naver?where=news&sm=tab_pge&query=재정&start=3731', 'https://search.naver.com/search.naver?where=news&sm=tab_pge&query=재정&start=3741', 'https://search.naver.com/search.naver?where=news&sm=tab_pge&query=재정&start=3751', 'https://search.naver.com/search.naver?where=news&sm=tab_pge&query=재정&start=3761', 'https://search.naver.com/search.naver?where=news&sm=tab_pge&query=재정&start=3771', 'https://search.naver.com/search.naver?where=news&sm=tab_pge&query=재정&start=3781', 'https://search.naver.com/search.naver?where=news&sm=tab_pge&query=재정&start=3791', 'https://search.naver.com/search.naver?where=news&sm=tab_pge&query=재정&start=3801', 'https://search.naver.com/search.naver?where=news&sm=tab_pge&query=재정&start=3811', 'https://search.naver.com/search.naver?where=news&sm=tab_pge&query=재정&start=3821', 'https://search.naver.com/search.naver?where=news&sm=tab_pge&query=재정&start=3831', 'https://search.naver.com/search.naver?where=news&sm=tab_pge&query=재정&start=3841', 'https://search.naver.com/search.naver?where=news&sm=tab_pge&query=재정&start=3851', 'https://search.naver.com/search.naver?where=news&sm=tab_pge&query=재정&start=3861', 'https://search.naver.com/search.naver?where=news&sm=tab_pge&query=재정&start=3871', 'https://search.naver.com/search.naver?where=news&sm=tab_pge&query=재정&start=3881', 'https://search.naver.com/search.naver?where=news&sm=tab_pge&query=재정&start=3891', 'https://search.naver.com/search.naver?where=news&sm=tab_pge&query=재정&start=3901', 'https://search.naver.com/search.naver?where=news&sm=tab_pge&query=재정&start=3911', 'https://search.naver.com/search.naver?where=news&sm=tab_pge&query=재정&start=3921', 'https://search.naver.com/search.naver?where=news&sm=tab_pge&query=재정&start=3931', 'https://search.naver.com/search.naver?where=news&sm=tab_pge&query=재정&start=3941', 'https://search.naver.com/search.naver?where=news&sm=tab_pge&query=재정&start=3951', 'https://search.naver.com/search.naver?where=news&sm=tab_pge&query=재정&start=3961', 'https://search.naver.com/search.naver?where=news&sm=tab_pge&query=재정&start=3971', 'https://search.naver.com/search.naver?where=news&sm=tab_pge&query=재정&start=3981', 'https://search.naver.com/search.naver?where=news&sm=tab_pge&query=재정&start=3991']\n"
     ]
    },
    {
     "name": "stderr",
     "output_type": "stream",
     "text": [
      "100%|██████████| 6608/6608 [00:00<00:00, 2318551.18it/s]\n",
      "100%|██████████| 2608/2608 [08:07<00:00,  5.35it/s]"
     ]
    },
    {
     "name": "stdout",
     "output_type": "stream",
     "text": [
      "검색된 기사 갯수: 총  4000 개\n"
     ]
    },
    {
     "name": "stderr",
     "output_type": "stream",
     "text": [
      "\n"
     ]
    }
   ],
   "source": [
    "from bs4 import BeautifulSoup\n",
    "import requests\n",
    "import re\n",
    "import datetime\n",
    "from tqdm import tqdm\n",
    "import sys\n",
    "\n",
    "# 페이지 url 형식에 맞게 바꾸어 주는 함수 만들기\n",
    "  #입력된 수를 1, 11, 21, 31 ...만들어 주는 함수\n",
    "def makePgNum(num):\n",
    "    if num == 1:\n",
    "        return num\n",
    "    elif num == 0:\n",
    "        return num+1\n",
    "    else:\n",
    "        return num+9*(num-1)\n",
    "\n",
    "# 크롤링할 url 생성하는 함수 만들기(검색어, 크롤링 시작 페이지, 크롤링 종료 페이지)\n",
    "\n",
    "def makeUrl(search, start_pg, end_pg):\n",
    "    if start_pg == end_pg:\n",
    "        start_page = makePgNum(start_pg)\n",
    "        url = \"https://search.naver.com/search.naver?where=news&sm=tab_pge&query=\" + search + \"&start=\" + str(start_page)\n",
    "        print(\"생성url: \", url)\n",
    "        return url\n",
    "    else:\n",
    "        urls = []\n",
    "        for i in range(start_pg, end_pg + 1):\n",
    "            page = makePgNum(i)\n",
    "            url = \"https://search.naver.com/search.naver?where=news&sm=tab_pge&query=\" + search + \"&start=\" + str(page)\n",
    "            urls.append(url)\n",
    "        print(\"생성url: \", urls)\n",
    "        return urls    \n",
    "\n",
    "# html에서 원하는 속성 추출하는 함수 만들기 (기사, 추출하려는 속성값)\n",
    "def news_attrs_crawler(articles,attrs):\n",
    "    attrs_content=[]\n",
    "    for i in articles:\n",
    "        attrs_content.append(i.attrs[attrs])\n",
    "    return attrs_content\n",
    "\n",
    "# ConnectionError방지\n",
    "headers = {\"User-Agent\": \"Mozilla/5.0 (Windows NT 10.0; Win64; x64) Chrome/98.0.4758.102\"}\n",
    "\n",
    "#html생성해서 기사크롤링하는 함수 만들기(url): 링크를 반환\n",
    "def articles_crawler(url):\n",
    "    #html 불러오기\n",
    "    original_html = requests.get(i,headers=headers)\n",
    "    html = BeautifulSoup(original_html.text, \"html.parser\")\n",
    "\n",
    "    url_naver = html.select(\"div.group_news > ul.list_news > li div.news_area > div.news_info > div.info_group > a.info\")\n",
    "    url = news_attrs_crawler(url_naver,'href')\n",
    "    return url\n",
    "\n",
    "\n",
    "#####뉴스크롤링 시작#####\n",
    "\n",
    "#검색어 입력\n",
    "search = input(\"검색할 키워드를 입력해주세요:\")\n",
    "#검색 시작할 페이지 입력\n",
    "page = int(input(\"\\n크롤링할 시작 페이지를 입력해주세요. ex)1(숫자만입력):\")) # ex)1 =1페이지,2=2페이지...\n",
    "print(\"\\n크롤링할 시작 페이지: \",page,\"페이지\")   \n",
    "#검색 종료할 페이지 입력\n",
    "page2 = int(input(\"\\n크롤링할 종료 페이지를 입력해주세요. ex)1(숫자만입력):\")) # ex)1 =1페이지,2=2페이지...\n",
    "print(\"\\n크롤링할 종료 페이지: \",page2,\"페이지\")   \n",
    "\n",
    "\n",
    "# naver url 생성\n",
    "url = makeUrl(search,page,page2)\n",
    "\n",
    "#뉴스 크롤러 실행\n",
    "news_titles = []\n",
    "news_url =[]\n",
    "news_contents =[]\n",
    "news_dates = []\n",
    "for i in url:\n",
    "    url = articles_crawler(url)\n",
    "    news_url.append(url)\n",
    "\n",
    "\n",
    "#제목, 링크, 내용 1차원 리스트로 꺼내는 함수 생성\n",
    "def makeList(newlist, content):\n",
    "    for i in content:\n",
    "        for j in i:\n",
    "            newlist.append(j)\n",
    "    return newlist\n",
    "\n",
    "    \n",
    "#제목, 링크, 내용 담을 리스트 생성\n",
    "news_url_1 = []\n",
    "\n",
    "#1차원 리스트로 만들기(내용 제외)\n",
    "makeList(news_url_1,news_url)\n",
    "\n",
    "#NAVER 뉴스만 남기기\n",
    "final_urls = []\n",
    "for i in tqdm(range(len(news_url_1))):\n",
    "    if \"news.naver.com\" in news_url_1[i]:\n",
    "        final_urls.append(news_url_1[i])\n",
    "    else:\n",
    "        pass\n",
    "\n",
    "# 뉴스 내용 크롤링\n",
    "\n",
    "for i in tqdm(final_urls):\n",
    "    #각 기사 html get하기\n",
    "    news = requests.get(i,headers=headers)\n",
    "    news_html = BeautifulSoup(news.text,\"html.parser\")\n",
    "\n",
    "    # 뉴스 제목 가져오기\n",
    "    title = news_html.select_one(\"#ct > div.media_end_head.go_trans > div.media_end_head_title > h2\")\n",
    "    if title == None:\n",
    "        title = news_html.select_one(\"#content > div.end_ct > div > h2\")\n",
    "    \n",
    "    # 뉴스 본문 가져오기\n",
    "    content = news_html.select(\"div#dic_area\")\n",
    "    if content == []:\n",
    "        content = news_html.select(\"#articeBody\")\n",
    "\n",
    "    # 기사 텍스트만 가져오기\n",
    "    # list합치기\n",
    "    content = ''.join(str(content))\n",
    "\n",
    "    # html태그제거 및 텍스트 다듬기\n",
    "    pattern1 = '<[^>]*>'\n",
    "    title = re.sub(pattern=pattern1, repl='', string=str(title))\n",
    "    content = re.sub(pattern=pattern1, repl='', string=content)\n",
    "    pattern2 = \"\"\"[\\n\\n\\n\\n\\n// flash 오류를 우회하기 위한 함수 추가\\nfunction _flash_removeCallback() {}\"\"\"\n",
    "    content = content.replace(pattern2, '')\n",
    "\n",
    "    news_titles.append(title)\n",
    "    news_contents.append(content)\n",
    "\n",
    "    try:\n",
    "        html_date = news_html.select_one(\"div#ct> div.media_end_head.go_trans > div.media_end_head_info.nv_notrans > div.media_end_head_info_datestamp > div > span\")\n",
    "        news_date = html_date.attrs['data-date-time']\n",
    "    except AttributeError:\n",
    "        news_date = news_html.select_one(\"#content > div.end_ct > div > div.article_info > span > em\")\n",
    "        news_date = re.sub(pattern=pattern1,repl='',string=str(news_date))\n",
    "    # 날짜 가져오기\n",
    "    news_dates.append(news_date)\n",
    "\n",
    "print(\"검색된 기사 갯수: 총 \",(page2+1-page)*10,'개')\n",
    "# print(\"\\n[뉴스 제목]\")\n",
    "# print(news_titles)\n",
    "# print(\"\\n[뉴스 링크]\")\n",
    "# print(final_urls)\n",
    "# print(\"\\n[뉴스 내용]\")\n",
    "# #print(news_contents)\n",
    "\n",
    "# print('news_title: ',len(news_titles))\n",
    "# print('news_url: ',len(final_urls))\n",
    "# print('news_contents: ',len(news_contents))\n",
    "# print('news_dates: ',len(news_dates))\n",
    "\n",
    "# ###데이터 프레임으로 만들기###\n",
    "# import pandas as pd\n",
    "\n",
    "# #데이터 프레임 만들기\n",
    "# news_df = pd.DataFrame({'date':news_dates,'title':news_titles,'link':final_urls,'content':news_contents})\n",
    "\n",
    "# #중복 행 지우기\n",
    "# news_df = news_df.drop_duplicates(keep='first',ignore_index=True)\n",
    "# print(\"중복 제거 후 행 개수: \",len(news_df))\n",
    "\n",
    "# #데이터 프레임 저장\n",
    "# now = datetime.datetime.now() \n",
    "# news_df.to_csv(\"economic_data.csv\",encoding='utf-8-sig',index=False)\n",
    "# news_df.to_csv('{}_{}.csv'.format(search,now.strftime('%Y%m%d_%H시%M분%S초')),encoding='utf-8-sig',index=False)"
   ]
  },
  {
   "cell_type": "code",
   "execution_count": 2,
   "id": "c8bd7eee",
   "metadata": {},
   "outputs": [
    {
     "name": "stdout",
     "output_type": "stream",
     "text": [
      "중복 제거 후 행 개수:  2425\n"
     ]
    }
   ],
   "source": [
    "###데이터 프레임으로 만들기###\n",
    "import pandas as pd\n",
    "\n",
    "#데이터 프레임 만들기\n",
    "news_df = pd.DataFrame({'date':news_dates,'title':news_titles,'link':final_urls,'content':news_contents})\n",
    "\n",
    "#중복 행 지우기\n",
    "news_df = news_df.drop_duplicates(keep='first',ignore_index=True)\n",
    "print(\"중복 제거 후 행 개수: \",len(news_df))\n",
    "\n",
    "#데이터 프레임 저장\n",
    "now = datetime.datetime.now() \n",
    "news_df.to_csv(\"재정처리전_data.csv\",encoding='utf-8-sig',index=False)\n",
    "#news_df.to_csv('{}_{}.csv'.format(search,now.strftime('%Y%m%d_%H시%M분%S초')),encoding='utf-8-sig',index=False)"
   ]
  },
  {
   "cell_type": "code",
   "execution_count": 3,
   "id": "af546852",
   "metadata": {},
   "outputs": [],
   "source": [
    "# 간단한 전처리\n",
    "def clean_text(txt):\n",
    "    txt = txt.replace('\\n',' ')\n",
    "    txt = txt.replace('\\r',' ')    \n",
    "    txt = txt.replace('=','')\n",
    "    txt = txt.replace('\\\"','')   \n",
    "    txt = txt.replace('\\'','')\n",
    "    txt = txt.replace(',','')\n",
    "    txt = txt.replace('..','')\n",
    "    txt = txt.replace('...','')\n",
    "    txt = txt.replace('”','')\n",
    "    txt = txt.replace('.','. ')\n",
    "    txt = txt.replace('  ',' ')\n",
    "    txt = txt.replace('  ',' ')    \n",
    "    txt = txt.replace('  ',' ')   \n",
    "    txt = txt.replace('  ',' ')           \n",
    "    txt = txt.replace('  ',' ')\n",
    "    txt = txt.replace('  ',' ')    \n",
    "    txt = txt.replace('  ',' ')   \n",
    "    txt = txt.replace('  ',' ')\n",
    "    txt = txt.replace('[','')\n",
    "    txt = txt.replace(']','')\n",
    "    return txt.strip()"
   ]
  },
  {
   "cell_type": "code",
   "execution_count": 4,
   "id": "1c0257e2",
   "metadata": {
    "scrolled": false
   },
   "outputs": [],
   "source": [
    "#df['A'] = df['A'].apply(add_2)\n",
    "news_df['content'] = news_df['content'].apply(clean_text)\n",
    "news_df['title'] = news_df['title'].apply(clean_text)"
   ]
  },
  {
   "cell_type": "code",
   "execution_count": 5,
   "id": "600cee15",
   "metadata": {},
   "outputs": [],
   "source": [
    "pattens = [\"[34569][0-9]{3}[\\;.\\;-\\; ][0-9]{4}[\\;.\\;-\\; ][0-9]{4}[\\;.\\;-\\; ][0-9]{4}\",\n",
    "           \"[0-9]{2,3}[\\:\\s\\;.\\;,\\;-;)][0-9]{3,4}[\\:\\s\\;.\\;,\\;-][0-9]{4}\",\n",
    "           \"[0-9]{1}[0-9]{1}[\\W]?[0-1]{1}[0-9]{1}[\\W]?[0-3]{1}[\\W]?[0-9]{1}[\\W]?[1-4]{1}[\\W]?[0-9]{1}[\\W]?[0-9]{1}[\\W]?[0-9]{1}[\\W]?[0-9]{1}[\\W]?[0-9]{1}[\\W]?[0-9]{1}\",\n",
    "           \"[0-9]{2}[\\:\\s\\;.\\;,\\;-][0-9]{2}[\\:\\s\\;.\\;,\\;-][0-9]{6}|[0-9]{3}[\\:\\s\\;.\\;,\\;-]([0-9]{5,6}[\\:\\s\\;.\\;,\\;-][0-9]{3}|[0-9]{6}[\\:\\s\\;.\\;,\\;-][0-9]{5}|[0-9]{2,3}[\\:\\s\\;.\\;,\\;-][0-9]{6}|[0-9]{2}[\\:\\s\\;.\\;,\\;-][0-9]{7}|[0-9]{2}[\\:\\s\\;.\\;,\\;-][0-9]{4,6}[\\:\\s\\;.\\;,\\;-][0-9]|[0-9]{5}[\\:\\s\\;.\\;,\\;-][0-9]{3}[\\:\\s\\;.\\;,\\;-][0-9]{2}|[0-9]{2}[\\:\\s\\;.\\;,\\;-][0-9]{5}[\\:\\s\\;.\\;,\\;-][0-9]{3}|[0-9]{4}[\\:\\s\\;.\\;,\\;-][0-9]{4}[\\:\\s\\;.\\;,\\;-][0-9]{3}|[0-9]{6}[\\:\\s\\;.\\;,\\;-][0-9]{2}[\\:\\s\\;.\\;,\\;-][0-9]{3}|[0-9]{2}[\\:\\s\\;.\\;,\\;-][0-9]{2}[\\:\\s\\;.\\;,\\;-][0-9]{7})|[0-9]{4}[\\:\\s\\;.\\;,\\;-]([0-9]{3}[\\:\\s\\;.\\;,\\;-][0-9]{6}|[0-9]{2}[\\:\\s\\;.\\;,\\;-][0-9]{6}[\\:\\s\\;.\\;,\\;-][0-9])|[0-9]{5}[\\:\\s\\;.\\;,\\;-][0-9]{2}[\\:\\s\\;.\\;,\\;-][0-9]{6}|[0-9]{6}[\\:\\s\\;.\\;,\\;-][0-9]{2}[\\:\\s\\;.\\;,\\;-][0-9]{5,6}\"\n",
    "           ]\n",
    "\n",
    "filters = []\n",
    "for p in pattens:\n",
    "    filters.append(re.compile(p))\n",
    "\n"
   ]
  },
  {
   "cell_type": "code",
   "execution_count": 6,
   "id": "db9179ee",
   "metadata": {},
   "outputs": [
    {
     "name": "stderr",
     "output_type": "stream",
     "text": [
      "[nltk_data] Downloading package punkt to /Users/suminbae/nltk_data...\n",
      "[nltk_data]   Package punkt is already up-to-date!\n"
     ]
    }
   ],
   "source": [
    "import nltk\n",
    "nltk.download('punkt')\n",
    "sentences = []\n",
    "\n",
    "for raw_text in news_df['content']:\n",
    "    try:\n",
    "        docs = nltk.sent_tokenize(clean_text(raw_text))\n",
    "        #print(docs)\n",
    "        for txt in docs:\n",
    "            if txt.find('▶') > -1 or txt.find('@') > -1 or txt.find('ⓒ') > -1: \n",
    "                pass\n",
    "            else:\n",
    "                txt = txt.strip()\n",
    "                if len(txt) > 40:\n",
    "                    #ok = True\n",
    "                    #for f in filters:\n",
    "                    #    if len(f.findall(txt)) > 0:\n",
    "                    #        ok = False\n",
    "                    #        print('fitered:',txt)\n",
    "                    #if ok:\n",
    "                    if any(chr.isdigit() for chr in txt):\n",
    "                        pass\n",
    "                    else:\n",
    "                        sentences.append(txt)\n",
    "    except KeyboardInterrupt as ki:\n",
    "        raise ki        \n",
    "    except:\n",
    "        print(\"Unexpected error:\", sys.exc_info()[0])                         "
   ]
  },
  {
   "cell_type": "code",
   "execution_count": 7,
   "id": "94025166",
   "metadata": {},
   "outputs": [],
   "source": [
    "df3 = pd.DataFrame({'sentence':sentences})"
   ]
  },
  {
   "cell_type": "code",
   "execution_count": 8,
   "id": "000641f7",
   "metadata": {},
   "outputs": [
    {
     "data": {
      "text/plain": [
       "'이 대표는 김진태 강원지사의 레고랜드 자산유동화어음(ABCP) 지급보증 철회 사태를 염두에 둔 듯 “정부가 리스크를 완화·해소해야 한다.'"
      ]
     },
     "execution_count": 8,
     "metadata": {},
     "output_type": "execute_result"
    }
   ],
   "source": [
    "df3.iloc[10]['sentence']"
   ]
  },
  {
   "cell_type": "code",
   "execution_count": 9,
   "id": "4f0895eb",
   "metadata": {},
   "outputs": [],
   "source": [
    "df3.to_csv(\"economic_data/재정_크롤링센텐스.csv\")"
   ]
  },
  {
   "cell_type": "code",
   "execution_count": 10,
   "id": "d01e2a60",
   "metadata": {},
   "outputs": [
    {
     "data": {
      "text/plain": [
       "13702"
      ]
     },
     "execution_count": 10,
     "metadata": {},
     "output_type": "execute_result"
    }
   ],
   "source": [
    "len(df3)"
   ]
  },
  {
   "cell_type": "code",
   "execution_count": 11,
   "id": "1a813e60",
   "metadata": {},
   "outputs": [
    {
     "data": {
      "text/html": [
       "<div>\n",
       "<style scoped>\n",
       "    .dataframe tbody tr th:only-of-type {\n",
       "        vertical-align: middle;\n",
       "    }\n",
       "\n",
       "    .dataframe tbody tr th {\n",
       "        vertical-align: top;\n",
       "    }\n",
       "\n",
       "    .dataframe thead th {\n",
       "        text-align: right;\n",
       "    }\n",
       "</style>\n",
       "<table border=\"1\" class=\"dataframe\">\n",
       "  <thead>\n",
       "    <tr style=\"text-align: right;\">\n",
       "      <th></th>\n",
       "      <th>sentence</th>\n",
       "    </tr>\n",
       "  </thead>\n",
       "  <tbody>\n",
       "    <tr>\n",
       "      <th>0</th>\n",
       "      <td>워싱턴뉴시스김난영 특파원 조 바이든 미국 대통령이 여전히 고물가 현상이 이어지는 상...</td>\n",
       "    </tr>\n",
       "    <tr>\n",
       "      <th>1</th>\n",
       "      <td>이어 우리는 할 일이 더 있다라며 내 계획은 내년부터 처방약 가격과 에너지 가격을 ...</td>\n",
       "    </tr>\n",
       "    <tr>\n",
       "      <th>2</th>\n",
       "      <td>바이든 대통령은 반면 의회 공화당의 의제는 매우 다르다라며 (공화당 의제는) 인플레...</td>\n",
       "    </tr>\n",
       "    <tr>\n",
       "      <th>3</th>\n",
       "      <td>연방통계청은 “어려운 세계 경제 상황 신종 코로나바이러스 감염증 지속 공급망 차질 ...</td>\n",
       "    </tr>\n",
       "    <tr>\n",
       "      <th>4</th>\n",
       "      <td>이에 대해 전문가들은 독일 경제가 역성장하지 않은 것은 놀랍지만 올겨울 경기침체를 ...</td>\n",
       "    </tr>\n",
       "    <tr>\n",
       "      <th>...</th>\n",
       "      <td>...</td>\n",
       "    </tr>\n",
       "    <tr>\n",
       "      <th>13697</th>\n",
       "      <td>이 밖에 자치행정국과 재난안전실은 자치안전실로 통합되고 자치행정국 인사과는 인사담당...</td>\n",
       "    </tr>\n",
       "    <tr>\n",
       "      <th>13698</th>\n",
       "      <td>공보관은 공보관과 대변인으로 기능을 분리해 전문성과 도민 소통력을 높이기로 했다.</td>\n",
       "    </tr>\n",
       "    <tr>\n",
       "      <th>13699</th>\n",
       "      <td>김태흠 지사는 충남의 미래를 내다보고 성과를 올릴 수 있는 조직 국내외 상황 변화에...</td>\n",
       "    </tr>\n",
       "    <tr>\n",
       "      <th>13700</th>\n",
       "      <td>손경식 경총 회장은 장기화되고 있는 우크라이나 사태와 보호무역주의 확산으로 고환율 ...</td>\n",
       "    </tr>\n",
       "    <tr>\n",
       "      <th>13701</th>\n",
       "      <td>또 최근 우리 기업들은 기존 제조업 중심의 노동집약적 산업에서 첨단기술 개발 서비스...</td>\n",
       "    </tr>\n",
       "  </tbody>\n",
       "</table>\n",
       "<p>13702 rows × 1 columns</p>\n",
       "</div>"
      ],
      "text/plain": [
       "                                                sentence\n",
       "0      워싱턴뉴시스김난영 특파원 조 바이든 미국 대통령이 여전히 고물가 현상이 이어지는 상...\n",
       "1      이어 우리는 할 일이 더 있다라며 내 계획은 내년부터 처방약 가격과 에너지 가격을 ...\n",
       "2      바이든 대통령은 반면 의회 공화당의 의제는 매우 다르다라며 (공화당 의제는) 인플레...\n",
       "3      연방통계청은 “어려운 세계 경제 상황 신종 코로나바이러스 감염증 지속 공급망 차질 ...\n",
       "4      이에 대해 전문가들은 독일 경제가 역성장하지 않은 것은 놀랍지만 올겨울 경기침체를 ...\n",
       "...                                                  ...\n",
       "13697  이 밖에 자치행정국과 재난안전실은 자치안전실로 통합되고 자치행정국 인사과는 인사담당...\n",
       "13698      공보관은 공보관과 대변인으로 기능을 분리해 전문성과 도민 소통력을 높이기로 했다.\n",
       "13699  김태흠 지사는 충남의 미래를 내다보고 성과를 올릴 수 있는 조직 국내외 상황 변화에...\n",
       "13700  손경식 경총 회장은 장기화되고 있는 우크라이나 사태와 보호무역주의 확산으로 고환율 ...\n",
       "13701  또 최근 우리 기업들은 기존 제조업 중심의 노동집약적 산업에서 첨단기술 개발 서비스...\n",
       "\n",
       "[13702 rows x 1 columns]"
      ]
     },
     "execution_count": 11,
     "metadata": {},
     "output_type": "execute_result"
    }
   ],
   "source": [
    "df3"
   ]
  },
  {
   "cell_type": "code",
   "execution_count": null,
   "id": "ea163282",
   "metadata": {},
   "outputs": [],
   "source": []
  }
 ],
 "metadata": {
  "kernelspec": {
   "display_name": "Python 3",
   "language": "python",
   "name": "python3"
  },
  "language_info": {
   "codemirror_mode": {
    "name": "ipython",
    "version": 3
   },
   "file_extension": ".py",
   "mimetype": "text/x-python",
   "name": "python",
   "nbconvert_exporter": "python",
   "pygments_lexer": "ipython3",
   "version": "3.7.7"
  }
 },
 "nbformat": 4,
 "nbformat_minor": 5
}
